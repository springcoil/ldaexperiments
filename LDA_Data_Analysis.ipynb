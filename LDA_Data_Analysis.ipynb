{
 "cells": [
  {
   "cell_type": "code",
   "execution_count": 65,
   "metadata": {
    "collapsed": false
   },
   "outputs": [
    {
     "ename": "ImportError",
     "evalue": "cannot import name docs_from_document_term_matrix",
     "output_type": "error",
     "traceback": [
      "\u001b[0;31m---------------------------------------------------------------------------\u001b[0m",
      "\u001b[0;31mImportError\u001b[0m                               Traceback (most recent call last)",
      "\u001b[0;32m<ipython-input-65-589a3566b7ea>\u001b[0m in \u001b[0;36m<module>\u001b[0;34m()\u001b[0m\n\u001b[1;32m      9\u001b[0m \u001b[0;32mfrom\u001b[0m \u001b[0mmicroscopes\u001b[0m\u001b[0;34m.\u001b[0m\u001b[0mlda\u001b[0m\u001b[0;34m.\u001b[0m\u001b[0mdefinition\u001b[0m \u001b[0;32mimport\u001b[0m \u001b[0mmodel_definition\u001b[0m\u001b[0;34m\u001b[0m\u001b[0m\n\u001b[1;32m     10\u001b[0m \u001b[0;32mfrom\u001b[0m \u001b[0mmicroscopes\u001b[0m\u001b[0;34m.\u001b[0m\u001b[0mlda\u001b[0m\u001b[0;34m.\u001b[0m\u001b[0mmodel\u001b[0m \u001b[0;32mimport\u001b[0m \u001b[0minitialize\u001b[0m\u001b[0;34m\u001b[0m\u001b[0m\n\u001b[0;32m---> 11\u001b[0;31m \u001b[0;32mfrom\u001b[0m \u001b[0mmicroscopes\u001b[0m\u001b[0;34m.\u001b[0m\u001b[0mlda\u001b[0m \u001b[0;32mimport\u001b[0m \u001b[0mutils\u001b[0m\u001b[0;34m,\u001b[0m \u001b[0mdocs_from_document_term_matrix\u001b[0m\u001b[0;34m\u001b[0m\u001b[0m\n\u001b[0m\u001b[1;32m     12\u001b[0m \u001b[0;32mfrom\u001b[0m \u001b[0mmicroscopes\u001b[0m\u001b[0;34m.\u001b[0m\u001b[0mlda\u001b[0m \u001b[0;32mimport\u001b[0m \u001b[0mmodel\u001b[0m\u001b[0;34m,\u001b[0m \u001b[0mrunner\u001b[0m\u001b[0;34m\u001b[0m\u001b[0m\n\u001b[1;32m     13\u001b[0m \u001b[0;34m\u001b[0m\u001b[0m\n",
      "\u001b[0;31mImportError\u001b[0m: cannot import name docs_from_document_term_matrix"
     ]
    }
   ],
   "source": [
    "import pandas as pd\n",
    "%matplotlib inline\n",
    "import pyLDAvis\n",
    "import json\n",
    "import sys\n",
    "import cPickle\n",
    "\n",
    "from microscopes.common.rng import rng\n",
    "from microscopes.lda.definition import model_definition\n",
    "from microscopes.lda.model import initialize\n",
    "from microscopes.lda import utils\n",
    "from microscopes.lda import model, runner\n",
    "\n",
    "from numpy import genfromtxt \n",
    "from numpy import linalg\n",
    "from numpy import array"
   ]
  },
  {
   "cell_type": "code",
   "execution_count": 11,
   "metadata": {
    "collapsed": false
   },
   "outputs": [],
   "source": [
    "df_1 = pd.read_csv(\"dataconomy.csv\", encoding='utf-8')"
   ]
  },
  {
   "cell_type": "code",
   "execution_count": 12,
   "metadata": {
    "collapsed": false
   },
   "outputs": [
    {
     "data": {
      "text/plain": [
       "[u'postview_number',\n",
       " u'postbox_description',\n",
       " u'categorylink_links',\n",
       " u'link',\n",
       " u'image/_alt',\n",
       " u'postdate_link',\n",
       " u'readmore_link',\n",
       " u'postbox_link',\n",
       " u'link/_text',\n",
       " u'readmore_link/_text',\n",
       " u'postdate_link/_title',\n",
       " u'image',\n",
       " u'categorylink_links/_text',\n",
       " u'postmetaicon_number/_source',\n",
       " u'postbox_image/_alt',\n",
       " u'peadarcoyle_link/_text',\n",
       " u'postmetaicon_link',\n",
       " u'postview_number/_source',\n",
       " u'categorylink_links/_title',\n",
       " u'postmetaicon_number',\n",
       " u'postbox_image',\n",
       " u'peadarcoyle_link',\n",
       " u'postdate_link/_text',\n",
       " u'postmetaicon_link/_title',\n",
       " u'peadarcoyle_link/_title',\n",
       " u'postmetaicon_link/_text',\n",
       " u'pageUrl']"
      ]
     },
     "execution_count": 12,
     "metadata": {},
     "output_type": "execute_result"
    }
   ],
   "source": [
    "df_1.columns.tolist()"
   ]
  },
  {
   "cell_type": "code",
   "execution_count": null,
   "metadata": {
    "collapsed": false
   },
   "outputs": [],
   "source": []
  },
  {
   "cell_type": "code",
   "execution_count": 13,
   "metadata": {
    "collapsed": false
   },
   "outputs": [],
   "source": [
    "df_2 = df_1[['link/_text']]"
   ]
  },
  {
   "cell_type": "code",
   "execution_count": 14,
   "metadata": {
    "collapsed": true
   },
   "outputs": [],
   "source": [
    "df_2.to_csv('topic_model_text.csv')"
   ]
  },
  {
   "cell_type": "code",
   "execution_count": 24,
   "metadata": {
    "collapsed": false
   },
   "outputs": [],
   "source": [
    "vocab = genfromtxt('topics.txt', dtype='str').tolist()\n"
   ]
  },
  {
   "cell_type": "code",
   "execution_count": 73,
   "metadata": {
    "collapsed": false
   },
   "outputs": [
    {
     "ename": "ValueError",
     "evalue": "dimension mismatch",
     "output_type": "error",
     "traceback": [
      "\u001b[0;31m---------------------------------------------------------------------------\u001b[0m",
      "\u001b[0;31mValueError\u001b[0m                                Traceback (most recent call last)",
      "\u001b[0;32m<ipython-input-73-7ac3baad4878>\u001b[0m in \u001b[0;36m<module>\u001b[0;34m()\u001b[0m\n\u001b[1;32m      4\u001b[0m \u001b[0mdtm\u001b[0m \u001b[0;34m=\u001b[0m \u001b[0mcount_vect\u001b[0m\u001b[0;34m.\u001b[0m\u001b[0mfit_transform\u001b[0m\u001b[0;34m(\u001b[0m\u001b[0mvocab\u001b[0m\u001b[0;34m)\u001b[0m\u001b[0;34m\u001b[0m\u001b[0m\n\u001b[1;32m      5\u001b[0m \u001b[0mdtm\u001b[0m\u001b[0;34m.\u001b[0m\u001b[0mshape\u001b[0m\u001b[0;34m\u001b[0m\u001b[0m\n\u001b[0;32m----> 6\u001b[0;31m \u001b[0mutils\u001b[0m\u001b[0;34m.\u001b[0m\u001b[0mdocs_from_document_term_matrix\u001b[0m\u001b[0;34m(\u001b[0m\u001b[0mdtm\u001b[0m\u001b[0;34m,\u001b[0m \u001b[0mvocab\u001b[0m\u001b[0;34m=\u001b[0m\u001b[0mvocab\u001b[0m\u001b[0;34m)\u001b[0m\u001b[0;34m\u001b[0m\u001b[0m\n\u001b[0m",
      "\u001b[0;32m/Users/peadarcoyle/anaconda/envs/py27/lib/python2.7/site-packages/microscopes/lda/utils.py\u001b[0m in \u001b[0;36mdocs_from_document_term_matrix\u001b[0;34m(dtm, vocab)\u001b[0m\n\u001b[1;32m     25\u001b[0m     \u001b[0;32mfor\u001b[0m \u001b[0mterm_counts\u001b[0m \u001b[0;32min\u001b[0m \u001b[0mdtm\u001b[0m\u001b[0;34m:\u001b[0m\u001b[0;34m\u001b[0m\u001b[0m\n\u001b[1;32m     26\u001b[0m         \u001b[0mterm_counts\u001b[0m \u001b[0;34m=\u001b[0m \u001b[0menumerate\u001b[0m\u001b[0;34m(\u001b[0m\u001b[0mterm_counts\u001b[0m\u001b[0;34m)\u001b[0m\u001b[0;34m\u001b[0m\u001b[0m\n\u001b[0;32m---> 27\u001b[0;31m         \u001b[0mdocs\u001b[0m\u001b[0;34m.\u001b[0m\u001b[0mappend\u001b[0m\u001b[0;34m(\u001b[0m\u001b[0m_term_counts_to_doc\u001b[0m\u001b[0;34m(\u001b[0m\u001b[0mterm_counts\u001b[0m\u001b[0;34m,\u001b[0m \u001b[0mvocab\u001b[0m\u001b[0;34m=\u001b[0m\u001b[0mvocab\u001b[0m\u001b[0;34m)\u001b[0m\u001b[0;34m)\u001b[0m\u001b[0;34m\u001b[0m\u001b[0m\n\u001b[0m\u001b[1;32m     28\u001b[0m     \u001b[0;32mreturn\u001b[0m \u001b[0mdocs\u001b[0m\u001b[0;34m\u001b[0m\u001b[0m\n\u001b[1;32m     29\u001b[0m \u001b[0;34m\u001b[0m\u001b[0m\n",
      "\u001b[0;32m/Users/peadarcoyle/anaconda/envs/py27/lib/python2.7/site-packages/microscopes/lda/utils.py\u001b[0m in \u001b[0;36m_term_counts_to_doc\u001b[0;34m(term_counts, vocab)\u001b[0m\n\u001b[1;32m    129\u001b[0m     \u001b[0;32mfor\u001b[0m \u001b[0mterm_id\u001b[0m\u001b[0;34m,\u001b[0m \u001b[0mcount\u001b[0m \u001b[0;32min\u001b[0m \u001b[0mterm_counts\u001b[0m\u001b[0;34m:\u001b[0m\u001b[0;34m\u001b[0m\u001b[0m\n\u001b[1;32m    130\u001b[0m         \u001b[0;32mif\u001b[0m \u001b[0mvocab\u001b[0m \u001b[0;32mis\u001b[0m \u001b[0;32mnot\u001b[0m \u001b[0mNone\u001b[0m\u001b[0;34m:\u001b[0m\u001b[0;34m\u001b[0m\u001b[0m\n\u001b[0;32m--> 131\u001b[0;31m             \u001b[0mdoc\u001b[0m\u001b[0;34m.\u001b[0m\u001b[0mextend\u001b[0m\u001b[0;34m(\u001b[0m\u001b[0mcount\u001b[0m \u001b[0;34m*\u001b[0m \u001b[0;34m[\u001b[0m\u001b[0mvocab\u001b[0m\u001b[0;34m[\u001b[0m\u001b[0mterm_id\u001b[0m\u001b[0;34m]\u001b[0m\u001b[0;34m]\u001b[0m\u001b[0;34m)\u001b[0m\u001b[0;34m\u001b[0m\u001b[0m\n\u001b[0m\u001b[1;32m    132\u001b[0m         \u001b[0;32melse\u001b[0m\u001b[0;34m:\u001b[0m\u001b[0;34m\u001b[0m\u001b[0m\n\u001b[1;32m    133\u001b[0m             \u001b[0mdoc\u001b[0m\u001b[0;34m.\u001b[0m\u001b[0mextend\u001b[0m\u001b[0;34m(\u001b[0m\u001b[0mcount\u001b[0m \u001b[0;34m*\u001b[0m \u001b[0;34m[\u001b[0m\u001b[0mterm_id\u001b[0m\u001b[0;34m]\u001b[0m\u001b[0;34m)\u001b[0m\u001b[0;34m\u001b[0m\u001b[0m\n",
      "\u001b[0;32m/Users/peadarcoyle/anaconda/envs/py27/lib/python2.7/site-packages/scipy/sparse/base.pyc\u001b[0m in \u001b[0;36m__mul__\u001b[0;34m(self, other)\u001b[0m\n\u001b[1;32m    334\u001b[0m             \u001b[0;31m# dense row or column vector\u001b[0m\u001b[0;34m\u001b[0m\u001b[0;34m\u001b[0m\u001b[0m\n\u001b[1;32m    335\u001b[0m             \u001b[0;32mif\u001b[0m \u001b[0mother\u001b[0m\u001b[0;34m.\u001b[0m\u001b[0mshape\u001b[0m \u001b[0;34m!=\u001b[0m \u001b[0;34m(\u001b[0m\u001b[0mN\u001b[0m\u001b[0;34m,\u001b[0m\u001b[0;34m)\u001b[0m \u001b[0;32mand\u001b[0m \u001b[0mother\u001b[0m\u001b[0;34m.\u001b[0m\u001b[0mshape\u001b[0m \u001b[0;34m!=\u001b[0m \u001b[0;34m(\u001b[0m\u001b[0mN\u001b[0m\u001b[0;34m,\u001b[0m\u001b[0;36m1\u001b[0m\u001b[0;34m)\u001b[0m\u001b[0;34m:\u001b[0m\u001b[0;34m\u001b[0m\u001b[0m\n\u001b[0;32m--> 336\u001b[0;31m                 \u001b[0;32mraise\u001b[0m \u001b[0mValueError\u001b[0m\u001b[0;34m(\u001b[0m\u001b[0;34m'dimension mismatch'\u001b[0m\u001b[0;34m)\u001b[0m\u001b[0;34m\u001b[0m\u001b[0m\n\u001b[0m\u001b[1;32m    337\u001b[0m \u001b[0;34m\u001b[0m\u001b[0m\n\u001b[1;32m    338\u001b[0m             \u001b[0mresult\u001b[0m \u001b[0;34m=\u001b[0m \u001b[0mself\u001b[0m\u001b[0;34m.\u001b[0m\u001b[0m_mul_vector\u001b[0m\u001b[0;34m(\u001b[0m\u001b[0mnp\u001b[0m\u001b[0;34m.\u001b[0m\u001b[0mravel\u001b[0m\u001b[0;34m(\u001b[0m\u001b[0mother\u001b[0m\u001b[0;34m)\u001b[0m\u001b[0;34m)\u001b[0m\u001b[0;34m\u001b[0m\u001b[0m\n",
      "\u001b[0;31mValueError\u001b[0m: dimension mismatch"
     ]
    }
   ],
   "source": [
    "from sklearn.feature_extraction.text import CountVectorizer\n",
    "cv = CountVectorizer(vocabulary=['data', 'science', 'big data', 'communication'])\n",
    "cv.fit_transform(['topics.txt']).toarray()\n",
    "dtm = count_vect.fit_transform(vocab)\n",
    "dtm.shape\n",
    "#utils.docs_from_document_term_matrix(dtm, vocab=vocab)\n"
   ]
  },
  {
   "cell_type": "code",
   "execution_count": 74,
   "metadata": {
    "collapsed": false
   },
   "outputs": [
    {
     "ename": "ValueError",
     "evalue": "dimension mismatch",
     "output_type": "error",
     "traceback": [
      "\u001b[0;31m---------------------------------------------------------------------------\u001b[0m",
      "\u001b[0;31mValueError\u001b[0m                                Traceback (most recent call last)",
      "\u001b[0;32m<ipython-input-74-a2a0a8addb10>\u001b[0m in \u001b[0;36m<module>\u001b[0;34m()\u001b[0m\n\u001b[1;32m      1\u001b[0m \u001b[0mvocab\u001b[0m \u001b[0;34m=\u001b[0m \u001b[0mgenfromtxt\u001b[0m\u001b[0;34m(\u001b[0m\u001b[0;34m'topics.txt'\u001b[0m\u001b[0;34m,\u001b[0m \u001b[0mdtype\u001b[0m\u001b[0;34m=\u001b[0m\u001b[0;34m'str'\u001b[0m\u001b[0;34m)\u001b[0m\u001b[0;34m.\u001b[0m\u001b[0mtolist\u001b[0m\u001b[0;34m(\u001b[0m\u001b[0;34m)\u001b[0m\u001b[0;34m\u001b[0m\u001b[0m\n\u001b[1;32m      2\u001b[0m \u001b[0;34m\u001b[0m\u001b[0m\n\u001b[0;32m----> 3\u001b[0;31m \u001b[0mdocs\u001b[0m \u001b[0;34m=\u001b[0m \u001b[0mutils\u001b[0m\u001b[0;34m.\u001b[0m\u001b[0mdocs_from_document_term_matrix\u001b[0m\u001b[0;34m(\u001b[0m\u001b[0mdtm\u001b[0m\u001b[0;34m,\u001b[0m \u001b[0mvocab\u001b[0m\u001b[0;34m=\u001b[0m\u001b[0mvocab\u001b[0m\u001b[0;34m)\u001b[0m\u001b[0;34m\u001b[0m\u001b[0m\n\u001b[0m",
      "\u001b[0;32m/Users/peadarcoyle/anaconda/envs/py27/lib/python2.7/site-packages/microscopes/lda/utils.py\u001b[0m in \u001b[0;36mdocs_from_document_term_matrix\u001b[0;34m(dtm, vocab)\u001b[0m\n\u001b[1;32m     25\u001b[0m     \u001b[0;32mfor\u001b[0m \u001b[0mterm_counts\u001b[0m \u001b[0;32min\u001b[0m \u001b[0mdtm\u001b[0m\u001b[0;34m:\u001b[0m\u001b[0;34m\u001b[0m\u001b[0m\n\u001b[1;32m     26\u001b[0m         \u001b[0mterm_counts\u001b[0m \u001b[0;34m=\u001b[0m \u001b[0menumerate\u001b[0m\u001b[0;34m(\u001b[0m\u001b[0mterm_counts\u001b[0m\u001b[0;34m)\u001b[0m\u001b[0;34m\u001b[0m\u001b[0m\n\u001b[0;32m---> 27\u001b[0;31m         \u001b[0mdocs\u001b[0m\u001b[0;34m.\u001b[0m\u001b[0mappend\u001b[0m\u001b[0;34m(\u001b[0m\u001b[0m_term_counts_to_doc\u001b[0m\u001b[0;34m(\u001b[0m\u001b[0mterm_counts\u001b[0m\u001b[0;34m,\u001b[0m \u001b[0mvocab\u001b[0m\u001b[0;34m=\u001b[0m\u001b[0mvocab\u001b[0m\u001b[0;34m)\u001b[0m\u001b[0;34m)\u001b[0m\u001b[0;34m\u001b[0m\u001b[0m\n\u001b[0m\u001b[1;32m     28\u001b[0m     \u001b[0;32mreturn\u001b[0m \u001b[0mdocs\u001b[0m\u001b[0;34m\u001b[0m\u001b[0m\n\u001b[1;32m     29\u001b[0m \u001b[0;34m\u001b[0m\u001b[0m\n",
      "\u001b[0;32m/Users/peadarcoyle/anaconda/envs/py27/lib/python2.7/site-packages/microscopes/lda/utils.py\u001b[0m in \u001b[0;36m_term_counts_to_doc\u001b[0;34m(term_counts, vocab)\u001b[0m\n\u001b[1;32m    129\u001b[0m     \u001b[0;32mfor\u001b[0m \u001b[0mterm_id\u001b[0m\u001b[0;34m,\u001b[0m \u001b[0mcount\u001b[0m \u001b[0;32min\u001b[0m \u001b[0mterm_counts\u001b[0m\u001b[0;34m:\u001b[0m\u001b[0;34m\u001b[0m\u001b[0m\n\u001b[1;32m    130\u001b[0m         \u001b[0;32mif\u001b[0m \u001b[0mvocab\u001b[0m \u001b[0;32mis\u001b[0m \u001b[0;32mnot\u001b[0m \u001b[0mNone\u001b[0m\u001b[0;34m:\u001b[0m\u001b[0;34m\u001b[0m\u001b[0m\n\u001b[0;32m--> 131\u001b[0;31m             \u001b[0mdoc\u001b[0m\u001b[0;34m.\u001b[0m\u001b[0mextend\u001b[0m\u001b[0;34m(\u001b[0m\u001b[0mcount\u001b[0m \u001b[0;34m*\u001b[0m \u001b[0;34m[\u001b[0m\u001b[0mvocab\u001b[0m\u001b[0;34m[\u001b[0m\u001b[0mterm_id\u001b[0m\u001b[0;34m]\u001b[0m\u001b[0;34m]\u001b[0m\u001b[0;34m)\u001b[0m\u001b[0;34m\u001b[0m\u001b[0m\n\u001b[0m\u001b[1;32m    132\u001b[0m         \u001b[0;32melse\u001b[0m\u001b[0;34m:\u001b[0m\u001b[0;34m\u001b[0m\u001b[0m\n\u001b[1;32m    133\u001b[0m             \u001b[0mdoc\u001b[0m\u001b[0;34m.\u001b[0m\u001b[0mextend\u001b[0m\u001b[0;34m(\u001b[0m\u001b[0mcount\u001b[0m \u001b[0;34m*\u001b[0m \u001b[0;34m[\u001b[0m\u001b[0mterm_id\u001b[0m\u001b[0;34m]\u001b[0m\u001b[0;34m)\u001b[0m\u001b[0;34m\u001b[0m\u001b[0m\n",
      "\u001b[0;32m/Users/peadarcoyle/anaconda/envs/py27/lib/python2.7/site-packages/scipy/sparse/base.pyc\u001b[0m in \u001b[0;36m__mul__\u001b[0;34m(self, other)\u001b[0m\n\u001b[1;32m    334\u001b[0m             \u001b[0;31m# dense row or column vector\u001b[0m\u001b[0;34m\u001b[0m\u001b[0;34m\u001b[0m\u001b[0m\n\u001b[1;32m    335\u001b[0m             \u001b[0;32mif\u001b[0m \u001b[0mother\u001b[0m\u001b[0;34m.\u001b[0m\u001b[0mshape\u001b[0m \u001b[0;34m!=\u001b[0m \u001b[0;34m(\u001b[0m\u001b[0mN\u001b[0m\u001b[0;34m,\u001b[0m\u001b[0;34m)\u001b[0m \u001b[0;32mand\u001b[0m \u001b[0mother\u001b[0m\u001b[0;34m.\u001b[0m\u001b[0mshape\u001b[0m \u001b[0;34m!=\u001b[0m \u001b[0;34m(\u001b[0m\u001b[0mN\u001b[0m\u001b[0;34m,\u001b[0m\u001b[0;36m1\u001b[0m\u001b[0;34m)\u001b[0m\u001b[0;34m:\u001b[0m\u001b[0;34m\u001b[0m\u001b[0m\n\u001b[0;32m--> 336\u001b[0;31m                 \u001b[0;32mraise\u001b[0m \u001b[0mValueError\u001b[0m\u001b[0;34m(\u001b[0m\u001b[0;34m'dimension mismatch'\u001b[0m\u001b[0;34m)\u001b[0m\u001b[0;34m\u001b[0m\u001b[0m\n\u001b[0m\u001b[1;32m    337\u001b[0m \u001b[0;34m\u001b[0m\u001b[0m\n\u001b[1;32m    338\u001b[0m             \u001b[0mresult\u001b[0m \u001b[0;34m=\u001b[0m \u001b[0mself\u001b[0m\u001b[0;34m.\u001b[0m\u001b[0m_mul_vector\u001b[0m\u001b[0;34m(\u001b[0m\u001b[0mnp\u001b[0m\u001b[0;34m.\u001b[0m\u001b[0mravel\u001b[0m\u001b[0;34m(\u001b[0m\u001b[0mother\u001b[0m\u001b[0;34m)\u001b[0m\u001b[0;34m)\u001b[0m\u001b[0;34m\u001b[0m\u001b[0m\n",
      "\u001b[0;31mValueError\u001b[0m: dimension mismatch"
     ]
    }
   ],
   "source": [
    "vocab = genfromtxt('topics.txt', dtype='str').tolist()\n",
    "\n",
    "docs = utils.docs_from_document_term_matrix(dtm, vocab=vocab)"
   ]
  },
  {
   "cell_type": "code",
   "execution_count": 58,
   "metadata": {
    "collapsed": false
   },
   "outputs": [
    {
     "data": {
      "text/plain": [
       "[[],\n",
       " ['Yard',\n",
       "  'with',\n",
       "  'first.',\n",
       "  'Data',\n",
       "  'Cameron',\n",
       "  'be',\n",
       "  'Data',\n",
       "  'main',\n",
       "  'with',\n",
       "  'field',\n",
       "  'in',\n",
       "  'trips'],\n",
       " ['Yard', 'with', 'My', 'be', 'Data', 'Data', 'of', 'with', 'in'],\n",
       " ['Yard',\n",
       "  'Constantly',\n",
       "  'relationships',\n",
       "  'Ian',\n",
       "  'be',\n",
       "  'with',\n",
       "  'I',\n",
       "  'in',\n",
       "  'danger'],\n",
       " ['Yard',\n",
       "  'Coyle',\n",
       "  'Data',\n",
       "  'basics',\n",
       "  'is',\n",
       "  'or',\n",
       "  'be',\n",
       "  'Interview',\n",
       "  'with',\n",
       "  'in',\n",
       "  'it'],\n",
       " ['Yard',\n",
       "  'Interview',\n",
       "  'Ask',\n",
       "  'Why',\n",
       "  'Sabino',\n",
       "  'gut',\n",
       "  'be',\n",
       "  'Nod.',\n",
       "  'with',\n",
       "  'Hadley',\n",
       "  'in',\n",
       "  'in',\n",
       "  'of',\n",
       "  'of'],\n",
       " ['Yard',\n",
       "  'Scientist',\n",
       "  'right',\n",
       "  'Scientist',\n",
       "  'Interview',\n",
       "  'Scientist',\n",
       "  'on',\n",
       "  'be',\n",
       "  'Data',\n",
       "  'Value',\n",
       "  'An',\n",
       "  'with',\n",
       "  'the',\n",
       "  'in'],\n",
       " ['Yard',\n",
       "  'Data',\n",
       "  'Get',\n",
       "  'with',\n",
       "  'Lynn',\n",
       "  'A',\n",
       "  'not',\n",
       "  'a',\n",
       "  'Solution',\n",
       "  'Davidson-Pilon',\n",
       "  'role',\n",
       "  'Data',\n",
       "  'be',\n",
       "  'out-competed',\n",
       "  'Sedar',\n",
       "  'with',\n",
       "  'Wickham',\n",
       "  'sense',\n",
       "  'in'],\n",
       " ['Everyones',\n",
       "  'Yard',\n",
       "  'Interview',\n",
       "  'Ask',\n",
       "  'Problem,',\n",
       "  'Solution',\n",
       "  'Scientist',\n",
       "  'Jon',\n",
       "  'Latour',\n",
       "  'Scientist',\n",
       "  'in',\n",
       "  'in',\n",
       "  'moving',\n",
       "  'it',\n",
       "  'it'],\n",
       " ['Yard',\n",
       "  'with',\n",
       "  'Ask',\n",
       "  'Scientist',\n",
       "  'Huston',\n",
       "  'be',\n",
       "  'Smile',\n",
       "  'Nod.',\n",
       "  'Data',\n",
       "  'classes',\n",
       "  'Data]',\n",
       "  'with',\n",
       "  'in',\n",
       "  'quickly'],\n",
       " ['in',\n",
       "  'Tactical',\n",
       "  'Interview',\n",
       "  'Data',\n",
       "  'Scientist',\n",
       "  'Scientist',\n",
       "  'more',\n",
       "  'Those',\n",
       "  'instinct',\n",
       "  'be',\n",
       "  'Scientist',\n",
       "  'Scientist',\n",
       "  'on',\n",
       "  'of',\n",
       "  'Big',\n",
       "  'Data',\n",
       "  'Buzzword',\n",
       "  'main',\n",
       "  'problem.',\n",
       "  'with',\n",
       "  'seems',\n",
       "  'in',\n",
       "  'so',\n",
       "  'that',\n",
       "  'it'],\n",
       " ['An',\n",
       "  'Interview',\n",
       "  'Shane',\n",
       "  'often',\n",
       "  'about',\n",
       "  'managing',\n",
       "  'who',\n",
       "  'rely',\n",
       "  'be',\n",
       "  'Jeroen',\n",
       "  'the',\n",
       "  'Data',\n",
       "  'Interview',\n",
       "  'with',\n",
       "  'Chief',\n",
       "  'so',\n",
       "  'that'],\n",
       " ['Back',\n",
       "  'Yard',\n",
       "  'David',\n",
       "  'Hand',\n",
       "  'Data',\n",
       "  'Vanessa',\n",
       "  'Solution',\n",
       "  'instinct',\n",
       "  'trivial',\n",
       "  'will',\n",
       "  'be',\n",
       "  'with',\n",
       "  'and',\n",
       "  'Latour',\n",
       "  'the',\n",
       "  'Data',\n",
       "  'Three',\n",
       "  'with',\n",
       "  'of',\n",
       "  'in',\n",
       "  'of'],\n",
       " ['Yard',\n",
       "  'Scientist',\n",
       "  'Peadar',\n",
       "  'Ask',\n",
       "  'with',\n",
       "  'analyses',\n",
       "  'be',\n",
       "  'Data',\n",
       "  '[Big',\n",
       "  'with',\n",
       "  'in',\n",
       "  'in',\n",
       "  'of'],\n",
       " ['Playing',\n",
       "  'Yard',\n",
       "  'An',\n",
       "  'Empathy',\n",
       "  'with',\n",
       "  'Lynn',\n",
       "  'Data:',\n",
       "  'Interview',\n",
       "  'Interview',\n",
       "  'be',\n",
       "  'be',\n",
       "  'Scientist',\n",
       "  'Data',\n",
       "  'with',\n",
       "  'data',\n",
       "  'science',\n",
       "  'in',\n",
       "  'in',\n",
       "  'it'],\n",
       " ['Scientist', 'the', 'Big', 'Scientist', 'Scientist', 'main', 'in', 'it']]"
      ]
     },
     "execution_count": 58,
     "metadata": {},
     "output_type": "execute_result"
    }
   ],
   "source": [
    "docs"
   ]
  },
  {
   "cell_type": "code",
   "execution_count": 43,
   "metadata": {
    "collapsed": false
   },
   "outputs": [
    {
     "data": {
      "text/plain": [
       "[[], ['Playing', 'in']]"
      ]
     },
     "execution_count": 43,
     "metadata": {},
     "output_type": "execute_result"
    }
   ],
   "source": [
    "docs"
   ]
  },
  {
   "cell_type": "code",
   "execution_count": 51,
   "metadata": {
    "collapsed": false
   },
   "outputs": [
    {
     "data": {
      "text/plain": [
       "False"
      ]
     },
     "execution_count": 51,
     "metadata": {},
     "output_type": "execute_result"
    }
   ],
   "source": [
    "\n",
    "dtm.shape[1] == len(vocab)"
   ]
  },
  {
   "cell_type": "code",
   "execution_count": 55,
   "metadata": {
    "collapsed": false
   },
   "outputs": [
    {
     "data": {
      "text/plain": [
       "(16, 132)"
      ]
     },
     "execution_count": 55,
     "metadata": {},
     "output_type": "execute_result"
    }
   ],
   "source": [
    "dtm.shape"
   ]
  },
  {
   "cell_type": "code",
   "execution_count": 59,
   "metadata": {
    "collapsed": false
   },
   "outputs": [
    {
     "ename": "ValueError",
     "evalue": "expected length 218 for parameter `vocab_lookup', but got length 91",
     "output_type": "error",
     "traceback": [
      "\u001b[0;31m---------------------------------------------------------------------------\u001b[0m",
      "\u001b[0;31mValueError\u001b[0m                                Traceback (most recent call last)",
      "\u001b[0;32m<ipython-input-59-2d1f216d57fa>\u001b[0m in \u001b[0;36m<module>\u001b[0;34m()\u001b[0m\n\u001b[1;32m      5\u001b[0m state = initialize(defn, docs, prng,\n\u001b[1;32m      6\u001b[0m                         \u001b[0mvocab_hp\u001b[0m\u001b[0;34m=\u001b[0m\u001b[0;36m1\u001b[0m\u001b[0;34m,\u001b[0m\u001b[0;34m\u001b[0m\u001b[0m\n\u001b[0;32m----> 7\u001b[0;31m                         dish_hps={\"alpha\": .6, \"gamma\": 2})\n\u001b[0m\u001b[1;32m      8\u001b[0m \u001b[0mr\u001b[0m \u001b[0;34m=\u001b[0m \u001b[0mrunner\u001b[0m\u001b[0;34m.\u001b[0m\u001b[0mrunner\u001b[0m\u001b[0;34m(\u001b[0m\u001b[0mdefn\u001b[0m\u001b[0;34m,\u001b[0m \u001b[0mdocs\u001b[0m\u001b[0;34m,\u001b[0m \u001b[0mstate\u001b[0m\u001b[0;34m,\u001b[0m \u001b[0;34m)\u001b[0m\u001b[0;34m\u001b[0m\u001b[0m\n",
      "\u001b[0;32mmicroscopes/lda/_model.pyx\u001b[0m in \u001b[0;36mmicroscopes.lda._model.initialize (microscopes/lda/_model.cpp:10297)\u001b[0;34m()\u001b[0m\n",
      "\u001b[0;32m/Users/peadarcoyle/anaconda/envs/py27/lib/python2.7/site-packages/microscopes/common/validator.py\u001b[0m in \u001b[0;36mvalidate_len\u001b[0;34m(obj, size, param_name)\u001b[0m\n\u001b[1;32m     51\u001b[0m             \u001b[0msize\u001b[0m\u001b[0;34m,\u001b[0m\u001b[0;34m\u001b[0m\u001b[0m\n\u001b[1;32m     52\u001b[0m             \u001b[0;34m\"\"\u001b[0m \u001b[0;32mif\u001b[0m \u001b[0mparam_name\u001b[0m \u001b[0;32mis\u001b[0m \u001b[0mNone\u001b[0m \u001b[0;32melse\u001b[0m \u001b[0;34m(\u001b[0m\u001b[0;34m\" \"\u001b[0m \u001b[0;34m+\u001b[0m \u001b[0m_q\u001b[0m\u001b[0;34m(\u001b[0m\u001b[0mparam_name\u001b[0m\u001b[0;34m)\u001b[0m\u001b[0;34m)\u001b[0m\u001b[0;34m,\u001b[0m\u001b[0;34m\u001b[0m\u001b[0m\n\u001b[0;32m---> 53\u001b[0;31m             len(obj)))\n\u001b[0m\u001b[1;32m     54\u001b[0m \u001b[0;34m\u001b[0m\u001b[0m\n\u001b[1;32m     55\u001b[0m \u001b[0;34m\u001b[0m\u001b[0m\n",
      "\u001b[0;31mValueError\u001b[0m: expected length 218 for parameter `vocab_lookup', but got length 91"
     ]
    }
   ],
   "source": [
    "\n",
    "N, V = len(docs), len(vocab)\n",
    "defn = model_definition(N, V)\n",
    "prng = rng(12345)\n",
    "state = initialize(defn, docs, prng,\n",
    "                        vocab_hp=1,\n",
    "                        dish_hps={\"alpha\": .6, \"gamma\": 2})\n",
    "r = runner.runner(defn, docs, state, )"
   ]
  },
  {
   "cell_type": "code",
   "execution_count": null,
   "metadata": {
    "collapsed": true
   },
   "outputs": [],
   "source": []
  }
 ],
 "metadata": {
  "kernelspec": {
   "display_name": "Python 2",
   "language": "python",
   "name": "python2"
  },
  "language_info": {
   "codemirror_mode": {
    "name": "ipython",
    "version": 2
   },
   "file_extension": ".py",
   "mimetype": "text/x-python",
   "name": "python",
   "nbconvert_exporter": "python",
   "pygments_lexer": "ipython2",
   "version": "2.7.10"
  }
 },
 "nbformat": 4,
 "nbformat_minor": 0
}
